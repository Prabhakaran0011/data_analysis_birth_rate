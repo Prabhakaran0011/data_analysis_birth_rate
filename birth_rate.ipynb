{
  "nbformat": 4,
  "nbformat_minor": 0,
  "metadata": {
    "colab": {
      "provenance": []
    },
    "kernelspec": {
      "name": "python3",
      "display_name": "Python 3"
    },
    "language_info": {
      "name": "python"
    }
  },
  "cells": [
    {
      "cell_type": "code",
      "execution_count": null,
      "metadata": {
        "id": "JvvEtOPhKmuo"
      },
      "outputs": [],
      "source": [
        "import pandas as pd\n",
        "births = pd.read_csv(\"births.csv\") print(births.head()) births['day'].fillna(0, inplace=True) births['day'] = births['day'].astype(int)"
      ]
    },
    {
      "cell_type": "code",
      "source": [
        "births['decade'] = 10 * (births['year'] // 10)\n",
        "births.pivot_table('births', index='decade', columns='gender', aggfunc='sum')\n",
        "print(births.head())"
      ],
      "metadata": {
        "id": "Ts1-AaKGK0bU"
      },
      "execution_count": null,
      "outputs": []
    },
    {
      "cell_type": "code",
      "source": [
        "import matplotlib.pyplot as plt\n",
        "import seaborn as sns\n",
        "sns.set()\n",
        "birth_decade = births.pivot_table('births', index='decade', columns='gender', aggfunc='sum')\n",
        "birth_decade.plot()\n",
        "plt.ylabel(\"Total births per year\")\n",
        "plt.show()"
      ],
      "metadata": {
        "id": "mddtEG9eK2eO"
      },
      "execution_count": null,
      "outputs": []
    },
    {
      "cell_type": "code",
      "source": [
        "import numpy as np\n",
        "quartiles = np.percentile(births['births'], [25, 50, 75])\n",
        "mu = quartiles[1]\n",
        "sig = 0.74 * (quartiles[2] - quartiles[0])"
      ],
      "metadata": {
        "id": "MzPu7C6BK5_h"
      },
      "execution_count": null,
      "outputs": []
    },
    {
      "cell_type": "code",
      "source": [
        "births = births.query('(births > @mu - 5 * @sig) & (births < @mu + 5 * @sig)')\n",
        "births['day'] = births['day'].astype(int)\n",
        "births.index = pd.to_datetime(10000 * births.year +\n",
        "                              100 * births.month +\n",
        "                              births.day, format='%Y%m%d')\n",
        "\n",
        "births['dayofweek'] = births.index.dayofweek"
      ],
      "metadata": {
        "id": "aAeB2nH-K8PW"
      },
      "execution_count": null,
      "outputs": []
    },
    {
      "cell_type": "code",
      "source": [
        "births.pivot_table('births', index='dayofweek',\n",
        "                    columns='decade', aggfunc='mean').plot()\n",
        "plt.gca().set_xticklabels(['Mon', 'Tues', 'Wed', 'Thurs', 'Fri', 'Sat', 'Sun'])\n",
        "plt.ylabel('mean births by day');\n",
        "plt.show()"
      ],
      "metadata": {
        "id": "lLcMtlV6K-W5"
      },
      "execution_count": null,
      "outputs": []
    },
    {
      "cell_type": "code",
      "source": [
        "births_month = births.pivot_table('births', [births.index.month, births.index.day])\n",
        "print(births_month.head())\n",
        "\n",
        "births_month.index = [pd.datetime(2012, month, day)\n",
        "                      for (month, day) in births_month.index]\n",
        "print(births_month.head())"
      ],
      "metadata": {
        "id": "W3dwtPLtLAuq"
      },
      "execution_count": null,
      "outputs": []
    },
    {
      "cell_type": "code",
      "source": [
        "fig, ax = plt.subplots(figsize=(12, 4))\n",
        "births_month.plot(ax=ax)\n",
        "plt.show()"
      ],
      "metadata": {
        "id": "xw0s4DJqLCq8"
      },
      "execution_count": null,
      "outputs": []
    }
  ]
}